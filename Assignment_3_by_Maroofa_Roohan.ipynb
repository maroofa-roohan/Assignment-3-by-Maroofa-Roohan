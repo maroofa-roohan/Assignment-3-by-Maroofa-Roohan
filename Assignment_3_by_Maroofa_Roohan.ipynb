{
  "nbformat": 4,
  "nbformat_minor": 0,
  "metadata": {
    "colab": {
      "provenance": []
    },
    "kernelspec": {
      "name": "python3",
      "display_name": "Python 3"
    },
    "language_info": {
      "name": "python"
    }
  },
  "cells": [
    {
      "cell_type": "code",
      "execution_count": 3,
      "metadata": {
        "colab": {
          "base_uri": "https://localhost:8080/"
        },
        "id": "sPvvTgK5D2xq",
        "outputId": "181eeabb-daad-47c6-d884-cbe8901514d3"
      },
      "outputs": [
        {
          "output_type": "stream",
          "name": "stdout",
          "text": [
            "Hello, Alice\n",
            "Hello, Bob\n"
          ]
        }
      ],
      "source": [
        "#1. Difference between Function and Methods in Python\n",
        "#Function: A block of code that performs a task, defined using the def keyword. Functions are independent of objects.\n",
        "#Method: A function associated with an object or class, invoked on an instance.\n",
        "#Example:\n",
        "# Function example\n",
        "def greet(name):\n",
        " return f\"Hello, {name}\"\n",
        "\n",
        "# Method example (inside a class)\n",
        "class Person:\n",
        "    def greet(self, name):\n",
        "        return f\"Hello, {name}\"\n",
        "\n",
        "# Calling the function\n",
        "print(greet(\"Alice\"))\n",
        "\n",
        "# Calling the method\n",
        "p = Person()\n",
        "print(p.greet(\"Bob\"))\n"
      ]
    },
    {
      "cell_type": "code",
      "source": [
        "#2. Function Arguments and Parameters\n",
        "#Parameters: Variables defined by the function that receive values.\n",
        "#Arguments: The actual values passed to the function when called.\n",
        "#Example:\n",
        "def add(a, b):  # a and b are parameters\n",
        "    return a + b\n",
        "\n",
        "result = add(3, 4)  # 3 and 4 are arguments\n",
        "print(result)"
      ],
      "metadata": {
        "colab": {
          "base_uri": "https://localhost:8080/"
        },
        "id": "9p0ZvPK3Ed8_",
        "outputId": "7fdf06f7-b784-4e28-ff06-6a66eb987d34"
      },
      "execution_count": 4,
      "outputs": [
        {
          "output_type": "stream",
          "name": "stdout",
          "text": [
            "7\n"
          ]
        }
      ]
    },
    {
      "cell_type": "code",
      "source": [
        "#3. Ways to Define and Call a Function\n",
        "#Standard function definition:\n",
        "\n",
        "def multiply(a, b):\n",
        "    return a * b\n",
        "print(multiply(2, 5))\n",
        "#Anonymous function (Lambda):\n",
        "multiply = lambda a, b: a * b\n",
        "print(multiply(2, 5))"
      ],
      "metadata": {
        "colab": {
          "base_uri": "https://localhost:8080/"
        },
        "id": "vMQ0qSBTE-g0",
        "outputId": "c353f1ac-a2f7-46fd-c5eb-d4559ba5b8d0"
      },
      "execution_count": 5,
      "outputs": [
        {
          "output_type": "stream",
          "name": "stdout",
          "text": [
            "10\n",
            "10\n"
          ]
        }
      ]
    },
    {
      "cell_type": "code",
      "source": [
        "#4. Purpose of the Return Statement\n",
        "#The return statement is used to exit a function and send a value back to the caller.\n",
        "#Example:\n",
        "def square(x):\n",
        "    return x * x\n",
        "\n",
        "result = square(4)\n",
        "print(result)  # Outputs 16"
      ],
      "metadata": {
        "colab": {
          "base_uri": "https://localhost:8080/"
        },
        "id": "-rOzaXGQFleK",
        "outputId": "8f475884-5641-475b-d498-c8707c906b25"
      },
      "execution_count": 6,
      "outputs": [
        {
          "output_type": "stream",
          "name": "stdout",
          "text": [
            "16\n"
          ]
        }
      ]
    },
    {
      "cell_type": "code",
      "source": [
        "#5. Iterations vs. Iterables\n",
        "#Iterable: An object capable of returning its members one at a time (e.g., list, tuple).\n",
        "#Iteration: The process of going over each element in an iterable.\n",
        "#Example:\n",
        "iterable = [1, 2, 3]\n",
        "for item in iterable:  # Iteration over an iterable\n",
        "    print(item)"
      ],
      "metadata": {
        "colab": {
          "base_uri": "https://localhost:8080/"
        },
        "id": "F30pc54pFz96",
        "outputId": "da696517-1f10-4941-bb22-c810044da7b1"
      },
      "execution_count": 7,
      "outputs": [
        {
          "output_type": "stream",
          "name": "stdout",
          "text": [
            "1\n",
            "2\n",
            "3\n"
          ]
        }
      ]
    },
    {
      "cell_type": "code",
      "source": [
        "#6. Generators\n",
        "#Generators are functions that return an iterator. They yield values one at a time using the yield keyword.\n",
        "#Example:\n",
        "def countdown(n):\n",
        "    while n > 0:\n",
        "        yield n\n",
        "        n -= 1\n",
        "\n",
        "for num in countdown(3):\n",
        "    print(num)"
      ],
      "metadata": {
        "colab": {
          "base_uri": "https://localhost:8080/"
        },
        "id": "GFfWATOHF_-z",
        "outputId": "bf04b2e7-9636-44f5-b5f0-be4856c71bc1"
      },
      "execution_count": 8,
      "outputs": [
        {
          "output_type": "stream",
          "name": "stdout",
          "text": [
            "3\n",
            "2\n",
            "1\n"
          ]
        }
      ]
    },
    {
      "cell_type": "code",
      "source": [
        "#. Advantages of Generators\n",
        "#Memory efficient: Generators yield items one by one, so they don’t store all values in memory.\n",
        "#Lazy evaluation: Values are produced only when required.\n"
      ],
      "metadata": {
        "id": "vwoPXac5GoB2"
      },
      "execution_count": 9,
      "outputs": []
    },
    {
      "cell_type": "code",
      "source": [
        "#8. Lambda Function\n",
        "#An anonymous function defined using the lambda keyword. It is typically used for short, throwaway functions.\n",
        "#Example:\n",
        "\n",
        "add = lambda x, y: x + y\n",
        "print(add(3, 5))  # Outputs 8"
      ],
      "metadata": {
        "colab": {
          "base_uri": "https://localhost:8080/"
        },
        "id": "eM3nQVT-GxbL",
        "outputId": "f50b4701-dac8-4c89-d043-738071657f7a"
      },
      "execution_count": 10,
      "outputs": [
        {
          "output_type": "stream",
          "name": "stdout",
          "text": [
            "8\n"
          ]
        }
      ]
    },
    {
      "cell_type": "code",
      "source": [
        "#9. Purpose of map()\n",
        "#map() applies a given function to all items in an iterable and returns a map object.\n",
        "#Example:\n",
        "def square(x):\n",
        "    return x * x\n",
        "\n",
        "nums = [1, 2, 3, 4]\n",
        "squared = map(square, nums)\n",
        "print(list(squared))  # [1, 4, 9, 16]"
      ],
      "metadata": {
        "colab": {
          "base_uri": "https://localhost:8080/"
        },
        "id": "edwcj9_VG_r4",
        "outputId": "ceac046f-d3d6-413e-f41e-ee0af8c3100f"
      },
      "execution_count": 11,
      "outputs": [
        {
          "output_type": "stream",
          "name": "stdout",
          "text": [
            "[1, 4, 9, 16]\n"
          ]
        }
      ]
    },
    {
      "cell_type": "code",
      "source": [
        "#10. Difference Between map(), reduce(), and filter()\n",
        "#Function                \tDescription                                      \tExample\n",
        "#map()        \tApplies a function to all elements of an iterable         \tmap(lambda x: x+1, [1, 2, 3]) -> [2, 3, 4]\n",
        "#reduce()     \tApplies a function cumulatively to items in an iterable   \treduce(lambda x, y: x+y, [1, 2, 3]) -> 6\n",
        "#filter()      \tFilters elements of an iterable based on a condition\t      filter(lambda x: x%2 == 0, [1, 2, 3]) -> [2]\n"
      ],
      "metadata": {
        "id": "617R-xXKHLDq"
      },
      "execution_count": 12,
      "outputs": []
    },
    {
      "cell_type": "code",
      "source": [
        "#1. Sum of All Even Numbers in a List\n",
        "def sum_even_numbers(numbers):\n",
        "    return sum(num for num in numbers if num % 2 == 0)\n",
        "\n",
        "# Example usage\n",
        "numbers = [1, 2, 3, 4, 5, 6]\n",
        "print(sum_even_numbers(numbers))  # Output: 12\n"
      ],
      "metadata": {
        "colab": {
          "base_uri": "https://localhost:8080/"
        },
        "id": "K8f1sCi9Hywu",
        "outputId": "de8fdc1a-8c3a-4a7f-a48f-3526915e7735"
      },
      "execution_count": 13,
      "outputs": [
        {
          "output_type": "stream",
          "name": "stdout",
          "text": [
            "12\n"
          ]
        }
      ]
    },
    {
      "cell_type": "code",
      "source": [
        "#2. Reverse a String\n",
        "def reverse_string(s):\n",
        "    return s[::-1]\n",
        "\n",
        "# Example usage\n",
        "s = \"hello\"\n",
        "print(reverse_string(s))  # Output: \"olleh\""
      ],
      "metadata": {
        "colab": {
          "base_uri": "https://localhost:8080/"
        },
        "id": "2SGVF6wgLJJt",
        "outputId": "de019d0a-4abe-49a5-8dda-d961c62e8f56"
      },
      "execution_count": 14,
      "outputs": [
        {
          "output_type": "stream",
          "name": "stdout",
          "text": [
            "olleh\n"
          ]
        }
      ]
    },
    {
      "cell_type": "code",
      "source": [
        "#3. Squares of Each Number in a List\n",
        "def square_numbers(numbers):\n",
        "    return [num ** 2 for num in numbers]\n",
        "\n",
        "# Example usage\n",
        "numbers = [1, 2, 3, 4]\n",
        "print(square_numbers(numbers))  # Output: [1, 4, 9, 16]"
      ],
      "metadata": {
        "colab": {
          "base_uri": "https://localhost:8080/"
        },
        "id": "peGFTuCELUsS",
        "outputId": "b54b6900-ebf7-42a4-bd89-3f1530f21994"
      },
      "execution_count": 15,
      "outputs": [
        {
          "output_type": "stream",
          "name": "stdout",
          "text": [
            "[1, 4, 9, 16]\n"
          ]
        }
      ]
    },
    {
      "cell_type": "code",
      "source": [
        "#4. Check If a Number is Prime from 1 to 200\n",
        "def is_prime(num):\n",
        "    if num < 2:\n",
        "        return False\n",
        "    for i in range(2, int(num ** 0.5) + 1):\n",
        "        if num % i == 0:\n",
        "            return False\n",
        "    return True\n",
        "\n",
        "# Checking primes from 1 to 200\n",
        "primes = [num for num in range(1, 201) if is_prime(num)]\n",
        "print(primes)  # Output: List of primes from 1 to 200"
      ],
      "metadata": {
        "colab": {
          "base_uri": "https://localhost:8080/"
        },
        "id": "JRn1G5BbLjDD",
        "outputId": "687193d0-b975-4af9-8a2e-bd2097bb6f38"
      },
      "execution_count": 16,
      "outputs": [
        {
          "output_type": "stream",
          "name": "stdout",
          "text": [
            "[2, 3, 5, 7, 11, 13, 17, 19, 23, 29, 31, 37, 41, 43, 47, 53, 59, 61, 67, 71, 73, 79, 83, 89, 97, 101, 103, 107, 109, 113, 127, 131, 137, 139, 149, 151, 157, 163, 167, 173, 179, 181, 191, 193, 197, 199]\n"
          ]
        }
      ]
    },
    {
      "cell_type": "code",
      "source": [
        "#5. Iterator Class for Fibonacci Sequence\n",
        "class FibonacciIterator:\n",
        "    def __init__(self, num_terms):\n",
        "        self.num_terms = num_terms\n",
        "        self.a, self.b = 0, 1\n",
        "        self.count = 0\n",
        "\n",
        "    def __iter__(self):\n",
        "        return self\n",
        "\n",
        "    def __next__(self):\n",
        "        if self.count >= self.num_terms:\n",
        "            raise StopIteration\n",
        "        self.count += 1\n",
        "        current = self.a\n",
        "        self.a, self.b = self.b, self.a + self.b\n",
        "        return current\n",
        "\n",
        "# Example usage\n",
        "fib_iter = FibonacciIterator(10)\n",
        "for num in fib_iter:\n",
        "    print(num)  # Output: First 10 terms of the Fibonacci sequence"
      ],
      "metadata": {
        "colab": {
          "base_uri": "https://localhost:8080/"
        },
        "id": "72WUUclmLu-p",
        "outputId": "b775213e-4b70-4e3c-b895-305862725f5b"
      },
      "execution_count": 17,
      "outputs": [
        {
          "output_type": "stream",
          "name": "stdout",
          "text": [
            "0\n",
            "1\n",
            "1\n",
            "2\n",
            "3\n",
            "5\n",
            "8\n",
            "13\n",
            "21\n",
            "34\n"
          ]
        }
      ]
    },
    {
      "cell_type": "code",
      "source": [
        "#6. Generator Function for Powers of 2\n",
        "def powers_of_two(exponent):\n",
        "    for i in range(exponent + 1):\n",
        "        yield 2 ** i\n",
        "\n",
        "# Example usage\n",
        "for power in powers_of_two(5):\n",
        "    print(power)  # Output: 1, 2, 4, 8, 16, 32"
      ],
      "metadata": {
        "colab": {
          "base_uri": "https://localhost:8080/"
        },
        "id": "Jn5YD8pqMBpF",
        "outputId": "1d265825-f68d-4c60-8a8d-097a9a400a44"
      },
      "execution_count": 18,
      "outputs": [
        {
          "output_type": "stream",
          "name": "stdout",
          "text": [
            "1\n",
            "2\n",
            "4\n",
            "8\n",
            "16\n",
            "32\n"
          ]
        }
      ]
    },
    {
      "cell_type": "code",
      "source": [
        "#7. Generator Function to Read a File Line by Line\n",
        "def read_file_line_by_line(file_path):\n",
        "    try:\n",
        "        with open(file_path, 'r', encoding='utf-8') as file:  # Use UTF-8 encoding for reading\n",
        "            for line in file:\n",
        "                yield line.strip()  # Yield each line without leading/trailing spaces and newlines\n",
        "    except FileNotFoundError:\n",
        "        print(f\"Error: The file '{file_path}' was not found.\")\n",
        "    except IOError:\n",
        "        print(f\"Error: Could not read the file '{file_path}'.\")\n",
        "\n",
        "# Example usage (ensure the file path is correct)\n",
        "file_path = 'example.txt'  # Replace with the correct path to your file\n",
        "for line in read_file_line_by_line(file_path):\n",
        "    print(line)\n"
      ],
      "metadata": {
        "colab": {
          "base_uri": "https://localhost:8080/"
        },
        "id": "ptKnlKIFMSKq",
        "outputId": "521d2cb9-3292-4841-8200-8fdc10cf2dca"
      },
      "execution_count": 22,
      "outputs": [
        {
          "output_type": "stream",
          "name": "stdout",
          "text": [
            "Error: The file 'example.txt' was not found.\n"
          ]
        }
      ]
    },
    {
      "cell_type": "code",
      "source": [
        "#8. Sort a List of Tuples Using a Lambda Function\n",
        "# Sort by the second element of each tuple\n",
        "def sort_tuples(tuples_list):\n",
        "    return sorted(tuples_list, key=lambda x: x[1])\n",
        "\n",
        "# Example usage\n",
        "tuples_list = [(1, 3), (4, 1), (5, 2)]\n",
        "sorted_list = sort_tuples(tuples_list)\n",
        "print(sorted_list)  # Output: [(4, 1), (5, 2), (1, 3)]\n"
      ],
      "metadata": {
        "colab": {
          "base_uri": "https://localhost:8080/"
        },
        "id": "hxG7AJb0Ml0T",
        "outputId": "fe3a6d99-3e57-4b0f-9a44-b945d09f8d5e"
      },
      "execution_count": 23,
      "outputs": [
        {
          "output_type": "stream",
          "name": "stdout",
          "text": [
            "[(4, 1), (5, 2), (1, 3)]\n"
          ]
        }
      ]
    },
    {
      "cell_type": "code",
      "source": [
        "#9. Convert Celsius to Fahrenheit Using map()\n",
        "def celsius_to_fahrenheit(celsius_list):\n",
        "    return list(map(lambda c: (c * 9/5) + 32, celsius_list))\n",
        "\n",
        "# Example usage\n",
        "celsius_list = [0, 10, 20, 30]\n",
        "fahrenheit_list = celsius_to_fahrenheit(celsius_list)\n",
        "print(fahrenheit_list)  # Output: [32.0, 50.0, 68.0, 86.0]\n"
      ],
      "metadata": {
        "colab": {
          "base_uri": "https://localhost:8080/"
        },
        "id": "jamxom-0NryK",
        "outputId": "26ce2119-132c-4c39-fa68-e62807de6233"
      },
      "execution_count": 24,
      "outputs": [
        {
          "output_type": "stream",
          "name": "stdout",
          "text": [
            "[32.0, 50.0, 68.0, 86.0]\n"
          ]
        }
      ]
    },
    {
      "cell_type": "code",
      "source": [
        "#10. Remove All Vowels Using filter()\n",
        "def remove_vowels(s):\n",
        "    vowels = \"aeiouAEIOU\"\n",
        "    return ''.join(filter(lambda char: char not in vowels, s))\n",
        "\n",
        "# Example usage\n",
        "s = \"hello world\"\n",
        "no_vowels = remove_vowels(s)\n",
        "print(no_vowels)  # Output: \"hll wrld\"\n"
      ],
      "metadata": {
        "colab": {
          "base_uri": "https://localhost:8080/"
        },
        "id": "72sOTyW-N74H",
        "outputId": "e691b0c7-65ef-470f-dc4e-890945c12957"
      },
      "execution_count": 25,
      "outputs": [
        {
          "output_type": "stream",
          "name": "stdout",
          "text": [
            "hll wrld\n"
          ]
        }
      ]
    },
    {
      "cell_type": "code",
      "source": [
        "#Write a Python program, which returns a list with 2-tuples. Each tuple consists of the order number and the\n",
        "#product of the price per item and the quantity. The product should be increased by 10,- € if the value of the\n",
        "#order is smaller than 100,00 €.\n",
        "\n",
        "#Write a Python program using lambda and map\n",
        "orders = [\n",
        "    [34587, \"Learning Python, Mark Lutz\", 4, 40.95],\n",
        "    [98762, \"Programming Python, Mark Lutz\", 5, 56.80],\n",
        "    [77226, \"Head First Python, Paul Barry\", 3, 32.95],\n",
        "    [88112, \"Einfuhrung in Python, Bernd Klein\", 3, 24.99]\n",
        "]\n",
        "# Create a lambda function to calculate the total price with the rule for orders less than 100\n",
        "calculate_order = lambda order: (order[0], order[2] * order[3] if order[2] * order[3] >= 100 else order[2] * order[3] + 10)\n",
        "\n",
        "# Use map to apply the lambda function to each order\n",
        "result = list(map(calculate_order, orders))\n",
        "\n",
        "# Output the result\n",
        "print(result)\n",
        "\n",
        "\n",
        "#Order 34587:\n",
        "#4×40.95=163.80\n",
        "#Order 98762:\n",
        "#5×56.80=284.00\n",
        "#Order 77226:\n",
        "#3×32.95=98.85 (since it's less than €100, €10 is added, making it €108.85)\n",
        "#Order 88112:\n",
        "#3×24.99=74.97 (since it's less than €100, €10 is added, making it €84.97)"
      ],
      "metadata": {
        "colab": {
          "base_uri": "https://localhost:8080/"
        },
        "id": "HTZ-R1h9OMLi",
        "outputId": "b1c1921c-1c8c-41e1-9767-8e7016d330df"
      },
      "execution_count": 27,
      "outputs": [
        {
          "output_type": "stream",
          "name": "stdout",
          "text": [
            "[(34587, 163.8), (98762, 284.0), (77226, 108.85000000000001), (88112, 84.97)]\n"
          ]
        }
      ]
    },
    {
      "cell_type": "code",
      "source": [],
      "metadata": {
        "id": "4naBvVf6Oxto"
      },
      "execution_count": null,
      "outputs": []
    }
  ]
}